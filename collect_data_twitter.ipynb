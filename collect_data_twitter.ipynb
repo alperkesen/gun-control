{
 "cells": [
  {
   "cell_type": "code",
   "execution_count": 54,
   "metadata": {},
   "outputs": [],
   "source": [
    "# Import libraries\n",
    "\n",
    "import tweepy\n",
    "import pandas as pd\n",
    "import datetime\n",
    "from json import load"
   ]
  },
  {
   "cell_type": "code",
   "execution_count": 145,
   "metadata": {},
   "outputs": [],
   "source": [
    "# Create client given keys, tokens, secrets\n",
    "\n",
    "CONFIG_PATH = 'config.json'\n",
    "\n",
    "config = load(open(CONFIG_PATH))\n",
    "\n",
    "client = tweepy.Client(bearer_token=config['bearer_token'])\n",
    "client = tweepy.Client(\n",
    "    consumer_key=config['consumer_key'], consumer_secret=config['consumer_secret'],\n",
    "    access_token=config['access_token'], access_token_secret=config['access_token_secret']\n",
    ")\n",
    "\n",
    "auth = tweepy.OAuthHandler(config['consumer_key'], config['consumer_secret'])\n",
    "auth.set_access_token(config['access_token'], config['access_token_secret'])\n",
    "api = tweepy.API(auth)"
   ]
  },
  {
   "cell_type": "code",
   "execution_count": 94,
   "metadata": {},
   "outputs": [],
   "source": [
    "# Define search by hashtag function\n",
    "\n",
    "def str2date(date: str, sep: str = '-'):\n",
    "    return datetime.datetime(*[int(col) for col in date.split(sep)], 0, 0, 0)\n",
    "\n",
    "def search_through_client(client: tweepy.client.Client,\n",
    "                          hashtag: str,\n",
    "                          num_tweets: int,\n",
    "                          start_date: str = None,\n",
    "                          end_date: str = None):\n",
    "    \"\"\"\n",
    "\n",
    "    Params:\n",
    "      client: Tweepy Client object\n",
    "      hashtag: Hashtag to search for (str)\n",
    "      num_tweets: Number of tweets to return (int)\n",
    "      start_date: Start date of relevant tweets (yyyy-m-dd)\n",
    "      end_date: End date of relevant tweets (yyyy-m-dd)\n",
    "\n",
    "    Returns:\n",
    "      tweets: dict containing search results\n",
    "\n",
    "    \"\"\"\n",
    "\n",
    "    date_since = str2date(start_date)\n",
    "    date_until = str2date(end_date)\n",
    "\n",
    "    response = client.search_all_tweets(hashtag,\n",
    "                                        start_time=date_since,\n",
    "                                        end_time=date_until,\n",
    "                                        max_results=num_tweets)\n",
    "\n",
    "    return response"
   ]
  },
  {
   "cell_type": "code",
   "execution_count": 142,
   "metadata": {},
   "outputs": [],
   "source": [
    "# Get tweets\n",
    "\n",
    "settings = {\n",
    "    'query': '#guncontrol',\n",
    "    'num_tweets': 10,\n",
    "    'start_date': '202205140000',\n",
    "    'end_date': '202206030000'\n",
    "}\n",
    "\n",
    "response = api.search_full_archive(config['prod'],\n",
    "                                   settings['query'],\n",
    "                                   fromDate=settings['start_date'],\n",
    "                                   toDate=settings['end_date'],\n",
    "                                   maxResults=settings['num_tweets'])\n"
   ]
  },
  {
   "cell_type": "code",
   "execution_count": 143,
   "metadata": {},
   "outputs": [
    {
     "name": "stdout",
     "output_type": "stream",
     "text": [
      "Text 0: RT @LifeIndiscreet: This guy here.A Fellow vet said it perfectly. I couldn’t have stated it better. #guncontrol https://t.co/dg3o8RoOgo\n",
      "Date 0: 2022-06-02 23:59:59+00:00\n",
      "----------------------------------------------------------------------------------------------------\n",
      "Text 1: RT @Moyer0811: If you think more gun laws is the solution, you are the problem. #2A #GunControl #gunlaws\n",
      "Date 1: 2022-06-02 23:59:56+00:00\n",
      "----------------------------------------------------------------------------------------------------\n",
      "Text 2: @lindyli If nightly“news” wants to be taken seriously, it needs substance.\n",
      "\n",
      "As you rightly say the issue of gun vio… https://t.co/yZlMOYhH0O\n",
      "Date 2: 2022-06-02 23:59:41+00:00\n",
      "----------------------------------------------------------------------------------------------------\n",
      "Text 3: @RepAdamSchiff 👏👏👏Canada\n",
      "announces new bill to freeze ALL handgun sales, AND MORE\n",
      "Once enacted, the bill would make… https://t.co/JzM4A2uWWe\n",
      "Date 3: 2022-06-02 23:59:32+00:00\n",
      "----------------------------------------------------------------------------------------------------\n",
      "Text 4: Taliban Joe said raising age to buy gun should be 21\n",
      "\n",
      "He wants mature adults making these critical decisions… https://t.co/ZkCz2yCL6I\n",
      "Date 4: 2022-06-02 23:59:32+00:00\n",
      "----------------------------------------------------------------------------------------------------\n",
      "Text 5: RT @Moyer0811: If you think more gun laws is the solution, you are the problem. #2A #GunControl #gunlaws\n",
      "Date 5: 2022-06-02 23:59:30+00:00\n",
      "----------------------------------------------------------------------------------------------------\n",
      "Text 6: RT @terror_alarm: 🚨🚨🇺🇸President Biden on #GunControl: \"We should limit how many rounds a weapon can hold. Why in God's name should an ordin…\n",
      "Date 6: 2022-06-02 23:59:26+00:00\n",
      "----------------------------------------------------------------------------------------------------\n",
      "Text 7: @xTaco_420x @ZerekEX That’s a good point but a weak one because laws can be changed.\n",
      "\n",
      "What are the major concerns a… https://t.co/6C3qitFuod\n",
      "Date 7: 2022-06-02 23:59:15+00:00\n",
      "----------------------------------------------------------------------------------------------------\n",
      "Text 8: Theo needs help and Tucker is NOT the person to give it to him. What Tucker *is* doing is radicalizing unstable men… https://t.co/G4xuSRRf8J\n",
      "Date 8: 2022-06-02 23:59:14+00:00\n",
      "----------------------------------------------------------------------------------------------------\n",
      "Text 9: RT @Moyer0811: If you think more gun laws is the solution, you are the problem. #2A #GunControl #gunlaws\n",
      "Date 9: 2022-06-02 23:59:10+00:00\n",
      "----------------------------------------------------------------------------------------------------\n"
     ]
    }
   ],
   "source": [
    "# List filter:retweetss.user.screen_name))\n",
    "for i, res in enumerate(response):\n",
    "    print(\"Text {}: {}\".format(i, res.text))\n",
    "    print(\"Date {}: {}\".format(i, res.created_at))\n",
    "    print(\"-\"*100)\n"
   ]
  },
  {
   "cell_type": "code",
   "execution_count": 125,
   "metadata": {},
   "outputs": [
    {
     "data": {
      "text/plain": [
       "datetime.datetime(2022, 6, 2, 23, 59, 59, tzinfo=datetime.timezone.utc)"
      ]
     },
     "execution_count": 125,
     "metadata": {},
     "output_type": "execute_result"
    }
   ],
   "source": []
  },
  {
   "cell_type": "code",
   "execution_count": null,
   "metadata": {},
   "outputs": [],
   "source": []
  }
 ],
 "metadata": {
  "interpreter": {
   "hash": "31f2aee4e71d21fbe5cf8b01ff0e069b9275f58929596ceb00d14d90e3e16cd6"
  },
  "kernelspec": {
   "display_name": "Python 3.6.12 64-bit",
   "language": "python",
   "name": "python3"
  },
  "language_info": {
   "codemirror_mode": {
    "name": "ipython",
    "version": 3
   },
   "file_extension": ".py",
   "mimetype": "text/x-python",
   "name": "python",
   "nbconvert_exporter": "python",
   "pygments_lexer": "ipython3",
   "version": "3.6.12"
  },
  "orig_nbformat": 4
 },
 "nbformat": 4,
 "nbformat_minor": 2
}
