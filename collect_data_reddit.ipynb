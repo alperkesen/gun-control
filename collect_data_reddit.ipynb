{
 "cells": [
  {
   "cell_type": "code",
   "execution_count": 1,
   "metadata": {},
   "outputs": [],
   "source": [
    "# Import libraries\n",
    "\n",
    "import praw\n",
    "import pandas as pd\n",
    "import datetime\n",
    "from json import load"
   ]
  },
  {
   "cell_type": "code",
   "execution_count": 25,
   "metadata": {},
   "outputs": [
    {
     "name": "stdout",
     "output_type": "stream",
     "text": [
      "Read only?: Yes\n"
     ]
    }
   ],
   "source": [
    "# Read config (client id, secret, user agent) and create Reddit object\n",
    "\n",
    "CONFIG_PATH = 'config.json'\n",
    "\n",
    "config = load(open(CONFIG_PATH))\n",
    "\n",
    "reddit = praw.Reddit(\n",
    "    client_id=config['reddit_client_id'],\n",
    "    client_secret=config['reddit_client_secret'],\n",
    "    user_agent=config['reddit_user_agent'],\n",
    ")\n",
    "\n",
    "print(\"Read only?:\", \"Yes\" if reddit.read_only else \"No\")"
   ]
  },
  {
   "cell_type": "code",
   "execution_count": 29,
   "metadata": {},
   "outputs": [
    {
     "name": "stdout",
     "output_type": "stream",
     "text": [
      "Post 0: \n",
      "\t Title: Discussion Thread: House Jan 6 Public Hearings, Day 1 - 06/09/2022 at 8 pm ET \n",
      "\t Date: 2022-06-10 00:58:17 \n",
      "\t Url: https://www.reddit.com/r/politics/comments/v8tbox/discussion_thread_house_jan_6_public_hearings_day/ \n",
      "\t Score: 6299 \n",
      "\t Author: PoliticsModeratorBot\n",
      "Post 1: \n",
      "\t Title: The January 6 hearings showed why it’s reasonable to call Trump a fascist \n",
      "\t Date: 2022-06-11 01:37:55 \n",
      "\t Url: https://www.vox.com/policy-and-politics/2022/6/10/23162442/january-6-committee-hearing-june-10-trump-fascist \n",
      "\t Score: 7365 \n",
      "\t Author: coffeespeaking\n",
      "Post 2: \n",
      "\t Title: Nearly 20M watched Jan. 6 hearing: Nielsen \n",
      "\t Date: 2022-06-10 22:41:48 \n",
      "\t Url: https://thehill.com/blogs/pundits-blog/media/3519284-nearly-20m-watched-jan-6-hearing-nielsen/ \n",
      "\t Score: 46011 \n",
      "\t Author: h2oape\n",
      "Post 3: \n",
      "\t Title: AOC Asked Gaetz, Boebert, and Greene If They Asked for Pardons After January 6 \n",
      "\t Date: 2022-06-11 05:33:07 \n",
      "\t Url: https://www.businessinsider.com/aoc-matt-gaetz-lauren-boebert-marjorie-taylor-greene-pardons-january-2022-6 \n",
      "\t Score: 1520 \n",
      "\t Author: SoundsLikeFraud\n",
      "Post 4: \n",
      "\t Title: Ginni Thomas pressed 29 Ariz. lawmakers to help overturn Trump’s defeat, emails show \n",
      "\t Date: 2022-06-10 18:18:54 \n",
      "\t Url: https://www.washingtonpost.com/investigations/2022/06/10/ginni-thomas-election-arizona-lawmakers/?utm_campaign=wp_main&utm_medium=social&utm_source=reddit.com \n",
      "\t Score: 55339 \n",
      "\t Author: washingtonpost\n"
     ]
    }
   ],
   "source": [
    "# Example (Check 20 hot posts in r/politics and print title, date)\n",
    "\n",
    "posts = reddit.subreddit(\"politics\").hot(limit=5)\n",
    "\n",
    "for i, post in enumerate(posts):\n",
    "    print(\"Post {}: \\n\\t Title: {} \\n\\t Date: {} \\n\\t Url: {} \\n\\t Score: {} \\n\\t Author: {}\".format(\n",
    "        i, post.title, datetime.datetime.fromtimestamp(post.created), post.url, post.score, post.author))"
   ]
  },
  {
   "cell_type": "code",
   "execution_count": 58,
   "metadata": {},
   "outputs": [
    {
     "data": {
      "text/plain": [
       "\"\\nAs a reminder, this subreddit [is for civil discussion.](/r/politics/wiki/index#wiki_be_civil)\\n\\nIn general, be courteous to others. Debate/discuss/argue the merits of ideas, don't attack people. Personal insults, shill or troll accusations, hate speech, any suggestion or support of harm, violence, or death, and other rule violations can result in a permanent ban. \\n\\nIf you see comments in violation of our rules, please report them.\\n\\n For those who have questions regarding any media outlets being posted on this subreddit, please click [here](https://www.reddit.com/r/politics/wiki/approveddomainslist) to review our details as to our approved domains list and outlet criteria.\\n \\n **Special announcement:**\\n \\n r/politics is currently accepting new moderator applications.  If you want to help make this community a better place, consider [applying here today](https://www.reddit.com/r/politics/comments/sskg6a/rpolitics_is_looking_for_more_moderators/)!\\n\\n***\\n\\n\\n*I am a bot, and this action was performed automatically. Please [contact the moderators of this subreddit](/message/compose/?to=/r/politics) if you have any questions or concerns.*\""
      ]
     },
     "execution_count": 58,
     "metadata": {},
     "output_type": "execute_result"
    }
   ],
   "source": [
    "# Example comment body\n",
    "\n",
    "comment_body = list(post.comments)[0].body\n",
    "comment_body"
   ]
  }
 ],
 "metadata": {
  "kernelspec": {
   "display_name": "Python 3.6.12 64-bit",
   "language": "python",
   "name": "python3"
  },
  "language_info": {
   "codemirror_mode": {
    "name": "ipython",
    "version": 3
   },
   "file_extension": ".py",
   "mimetype": "text/x-python",
   "name": "python",
   "nbconvert_exporter": "python",
   "pygments_lexer": "ipython3",
   "version": "3.6.12"
  },
  "orig_nbformat": 4,
  "vscode": {
   "interpreter": {
    "hash": "31f2aee4e71d21fbe5cf8b01ff0e069b9275f58929596ceb00d14d90e3e16cd6"
   }
  }
 },
 "nbformat": 4,
 "nbformat_minor": 2
}
